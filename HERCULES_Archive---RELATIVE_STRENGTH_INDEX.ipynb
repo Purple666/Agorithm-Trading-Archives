{
 "cells": [
  {
   "cell_type": "code",
   "execution_count": 1,
   "metadata": {},
   "outputs": [
    {
     "name": "stderr",
     "output_type": "stream",
     "text": [
      "C:\\ProgramData\\Anaconda3\\lib\\site-packages\\pandas_datareader\\compat\\__init__.py:7: FutureWarning: pandas.util.testing is deprecated. Use the functions in the public API at pandas.testing instead.\n",
      "  from pandas.util.testing import assert_frame_equal\n"
     ]
    }
   ],
   "source": [
    "import numpy as np\n",
    "import pandas as pd\n",
    "from pandas_datareader import data as wb\n",
    "from scipy import stats\n",
    "import statsmodels.api as sm\n",
    "import matplotlib.pyplot as plt\n",
    "from sympy import *\n",
    "init_printing()\n",
    "import xlrd\n",
    "import itertools\n",
    "import datetime\n",
    "from itertools import combinations\n",
    "from itertools import product\n",
    "from itertools import groupby\n",
    "from astropy.table import QTable, Table, Column\n",
    "from astropy import units as u\n",
    "from IPython.display import HTML\n",
    "import requests\n",
    "import json"
   ]
  },
  {
   "cell_type": "code",
   "execution_count": 52,
   "metadata": {},
   "outputs": [
    {
     "name": "stdout",
     "output_type": "stream",
     "text": [
      "The 14-day Relative Strength Index detected at the current price is  64.38264154407393\n",
      "The 56-day Relative Strength Index detected at the current price is  49.57072311479351\n",
      "The Maximum Relative Strength Index detected at the current price is  51.62174469090185\n"
     ]
    }
   ],
   "source": [
    "ticker = '^GSPC'\n",
    "S = wb.DataReader(ticker, data_source='yahoo', start='2019-4-16')\n",
    "CP = S['Adj Close'].iloc[-1]\n",
    "l = int(S['Adj Close'].count())\n",
    "\n",
    "\n",
    "## RELATIVE STRENGTH INDEX\n",
    "\n",
    "S = S.assign(GAIN=(S['Adj Close'] - (S['Adj Close'].shift()))/S['Adj Close'])\n",
    "\n",
    "## RSI FOR SHORT-TERM - 14 CANDLESTICKS\n",
    "\n",
    "T = S['GAIN']\n",
    "t = len(T)\n",
    "T = T[(l-14)::]\n",
    "Tgains = []\n",
    "Tlosses = []\n",
    "\n",
    "for x in T:\n",
    "    if x > 0:\n",
    "        Tgains.append(x)\n",
    "    elif x < 0:\n",
    "        Tlosses.append(x)\n",
    "\n",
    "avg_gains = np.average(Tgains)\n",
    "avg_losses = abs(np.average(Tlosses))\n",
    "\n",
    "RSI_1 = 100 - (100/(1+((avg_gains/14)/(avg_losses/14))))                           ## FIRST STEP IN RSI FORMULA\n",
    "RSI_2 = 100 - (100/(1+((avg_gains*13+Tgains[-1])/(avg_losses*13+Tlosses[-1]))))    ## WE ARE USING THIS RESULT FOR NOW\n",
    "RSI_14 = RSI_2\n",
    "\n",
    "## RSI FOR MID-TERM - 56 CANDLESTICKS\n",
    "\n",
    "T = S['GAIN']\n",
    "t = len(T)\n",
    "T = T[(l-56)::]\n",
    "Tgains = []\n",
    "Tlosses = []\n",
    "\n",
    "for x in T:\n",
    "    if x > 0:\n",
    "        Tgains.append(x)\n",
    "    elif x < 0:\n",
    "        Tlosses.append(x)\n",
    "\n",
    "avg_gains = np.average(Tgains)\n",
    "avg_losses = abs(np.average(Tlosses))\n",
    "\n",
    "RSI_1 = 100 - (100/(1+((avg_gains/14)/(avg_losses/14))))                           ## FIRST STEP IN RSI FORMULA\n",
    "RSI_2 = 100 - (100/(1+((avg_gains*13+Tgains[-1])/(avg_losses*13+Tlosses[-1]))))    ## WE ARE USING THIS RESULT FOR NOW\n",
    "RSI_56 = RSI_2\n",
    "\n",
    "## RSI FOR LONG-TERM - ALL CANDLESTICKS\n",
    "\n",
    "    ## IF THIS IS TO REPRESENT THE DAILY (LOOKING AT HOURLY), USE 14 X 24 = 336 HOURS\n",
    "\n",
    "T = S['GAIN']\n",
    "t = len(T)\n",
    "Tgains = []\n",
    "Tlosses = []\n",
    "\n",
    "for x in T:\n",
    "    if x > 0:\n",
    "        Tgains.append(x)\n",
    "    elif x < 0:\n",
    "        Tlosses.append(x)\n",
    "\n",
    "avg_gains = np.average(Tgains)\n",
    "avg_losses = abs(np.average(Tlosses))\n",
    "\n",
    "RSI_1 = 100 - (100/(1+((avg_gains/14)/(avg_losses/14))))                           ## FIRST STEP IN RSI FORMULA\n",
    "RSI_2 = 100 - (100/(1+((avg_gains*13+Tgains[-1])/(avg_losses*13+Tlosses[-1]))))    ## WE ARE USING THIS RESULT FOR NOW\n",
    "RSI_ALL = RSI_2\n",
    "\n",
    "\n",
    "print('The 14-day Relative Strength Index detected at the current price is ',RSI_14)\n",
    "print('The 56-day Relative Strength Index detected at the current price is ',RSI_56)\n",
    "print('The Maximum Relative Strength Index detected at the current price is ',RSI_ALL)"
   ]
  },
  {
   "cell_type": "code",
   "execution_count": null,
   "metadata": {},
   "outputs": [],
   "source": []
  },
  {
   "cell_type": "code",
   "execution_count": null,
   "metadata": {},
   "outputs": [],
   "source": []
  }
 ],
 "metadata": {
  "kernelspec": {
   "display_name": "Python 3",
   "language": "python",
   "name": "python3"
  },
  "language_info": {
   "codemirror_mode": {
    "name": "ipython",
    "version": 3
   },
   "file_extension": ".py",
   "mimetype": "text/x-python",
   "name": "python",
   "nbconvert_exporter": "python",
   "pygments_lexer": "ipython3",
   "version": "3.7.6"
  }
 },
 "nbformat": 4,
 "nbformat_minor": 4
}
