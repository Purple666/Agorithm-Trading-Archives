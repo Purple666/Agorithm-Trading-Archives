{
 "cells": [
  {
   "cell_type": "code",
   "execution_count": 1,
   "metadata": {},
   "outputs": [],
   "source": [
    "import fxcmpy\n",
    "import socketio"
   ]
  },
  {
   "cell_type": "code",
   "execution_count": 2,
   "metadata": {},
   "outputs": [
    {
     "data": {
      "text/plain": [
       "'1.2.6'"
      ]
     },
     "execution_count": 2,
     "metadata": {},
     "output_type": "execute_result"
    }
   ],
   "source": [
    "fxcmpy.__version__"
   ]
  },
  {
   "cell_type": "code",
   "execution_count": 3,
   "metadata": {},
   "outputs": [
    {
     "name": "stdout",
     "output_type": "stream",
     "text": [
      "4.5.1\n"
     ]
    }
   ],
   "source": [
    "print(socketio.__version__)"
   ]
  },
  {
   "cell_type": "code",
   "execution_count": 4,
   "metadata": {},
   "outputs": [],
   "source": [
    "TOKEN = 'b199bb5a15fa26957990a3fb823a51bd473cca55'"
   ]
  },
  {
   "cell_type": "code",
   "execution_count": 5,
   "metadata": {},
   "outputs": [],
   "source": [
    "con = fxcmpy.fxcmpy(access_token=TOKEN, log_level='error', server='demo', log_file='log.txt')"
   ]
  },
  {
   "cell_type": "code",
   "execution_count": 9,
   "metadata": {},
   "outputs": [
    {
     "name": "stdout",
     "output_type": "stream",
     "text": [
      "['EUR/USD', 'USD/JPY', 'GBP/USD', 'USD/CHF', 'EUR/CHF', 'AUD/USD', 'USD/CAD', 'NZD/USD', 'EUR/GBP', 'EUR/JPY', 'GBP/JPY', 'CHF/JPY', 'GBP/CHF', 'EUR/AUD', 'EUR/CAD', 'AUD/CAD', 'AUD/JPY', 'CAD/JPY', 'NZD/JPY', 'GBP/CAD', 'GBP/NZD', 'GBP/AUD', 'AUD/NZD', 'USD/SEK', 'EUR/SEK', 'EUR/NOK', 'USD/NOK', 'USD/MXN', 'AUD/CHF', 'EUR/NZD', 'USD/ZAR', 'USD/HKD', 'ZAR/JPY', 'USD/TRY', 'EUR/TRY', 'NZD/CHF', 'CAD/CHF', 'NZD/CAD', 'TRY/JPY', 'AUS200', 'ESP35', 'FRA40', 'GER30', 'HKG33', 'JPN225', 'NAS100', 'SPX500', 'UK100', 'US30', 'Copper', 'CHN50', 'EUSTX50', 'USDOLLAR', 'US2000', 'USOil', 'UKOil', 'SOYF', 'NGAS', 'WHEATF', 'CORNF', 'Bund', 'XAU/USD', 'XAG/USD', 'EMBasket', 'JPYBasket', 'BTC/USD', 'BCH/USD', 'ETH/USD', 'LTC/USD', 'XRP/USD', 'CryptoMajor', 'EOS/USD', 'XLM/USD', 'USEquities']\n"
     ]
    }
   ],
   "source": [
    "print(con.get_instruments())"
   ]
  },
  {
   "cell_type": "code",
   "execution_count": 17,
   "metadata": {},
   "outputs": [],
   "source": [
    "data = con.get_candles('EUR/USD', period='H1', number=250)"
   ]
  },
  {
   "cell_type": "code",
   "execution_count": 15,
   "metadata": {},
   "outputs": [
    {
     "data": {
      "text/html": [
       "<div>\n",
       "<style scoped>\n",
       "    .dataframe tbody tr th:only-of-type {\n",
       "        vertical-align: middle;\n",
       "    }\n",
       "\n",
       "    .dataframe tbody tr th {\n",
       "        vertical-align: top;\n",
       "    }\n",
       "\n",
       "    .dataframe thead th {\n",
       "        text-align: right;\n",
       "    }\n",
       "</style>\n",
       "<table border=\"1\" class=\"dataframe\">\n",
       "  <thead>\n",
       "    <tr style=\"text-align: right;\">\n",
       "      <th></th>\n",
       "      <th>bidopen</th>\n",
       "      <th>bidclose</th>\n",
       "      <th>bidhigh</th>\n",
       "      <th>bidlow</th>\n",
       "      <th>askopen</th>\n",
       "      <th>askclose</th>\n",
       "      <th>askhigh</th>\n",
       "      <th>asklow</th>\n",
       "      <th>tickqty</th>\n",
       "    </tr>\n",
       "    <tr>\n",
       "      <th>date</th>\n",
       "      <th></th>\n",
       "      <th></th>\n",
       "      <th></th>\n",
       "      <th></th>\n",
       "      <th></th>\n",
       "      <th></th>\n",
       "      <th></th>\n",
       "      <th></th>\n",
       "      <th></th>\n",
       "    </tr>\n",
       "  </thead>\n",
       "  <tbody>\n",
       "    <tr>\n",
       "      <th>2020-04-08 14:00:00</th>\n",
       "      <td>1.08801</td>\n",
       "      <td>1.08630</td>\n",
       "      <td>1.08864</td>\n",
       "      <td>1.08527</td>\n",
       "      <td>1.08809</td>\n",
       "      <td>1.08638</td>\n",
       "      <td>1.08872</td>\n",
       "      <td>1.08533</td>\n",
       "      <td>25049</td>\n",
       "    </tr>\n",
       "    <tr>\n",
       "      <th>2020-04-08 15:00:00</th>\n",
       "      <td>1.08630</td>\n",
       "      <td>1.08635</td>\n",
       "      <td>1.08831</td>\n",
       "      <td>1.08588</td>\n",
       "      <td>1.08638</td>\n",
       "      <td>1.08641</td>\n",
       "      <td>1.08836</td>\n",
       "      <td>1.08594</td>\n",
       "      <td>25701</td>\n",
       "    </tr>\n",
       "    <tr>\n",
       "      <th>2020-04-08 16:00:00</th>\n",
       "      <td>1.08635</td>\n",
       "      <td>1.08632</td>\n",
       "      <td>1.08658</td>\n",
       "      <td>1.08505</td>\n",
       "      <td>1.08641</td>\n",
       "      <td>1.08641</td>\n",
       "      <td>1.08663</td>\n",
       "      <td>1.08511</td>\n",
       "      <td>19503</td>\n",
       "    </tr>\n",
       "    <tr>\n",
       "      <th>2020-04-08 17:00:00</th>\n",
       "      <td>1.08632</td>\n",
       "      <td>1.08648</td>\n",
       "      <td>1.08668</td>\n",
       "      <td>1.08603</td>\n",
       "      <td>1.08641</td>\n",
       "      <td>1.08665</td>\n",
       "      <td>1.08673</td>\n",
       "      <td>1.08609</td>\n",
       "      <td>10416</td>\n",
       "    </tr>\n",
       "    <tr>\n",
       "      <th>2020-04-08 18:00:00</th>\n",
       "      <td>1.08648</td>\n",
       "      <td>1.08617</td>\n",
       "      <td>1.08725</td>\n",
       "      <td>1.08606</td>\n",
       "      <td>1.08665</td>\n",
       "      <td>1.08623</td>\n",
       "      <td>1.08732</td>\n",
       "      <td>1.08612</td>\n",
       "      <td>12751</td>\n",
       "    </tr>\n",
       "  </tbody>\n",
       "</table>\n",
       "</div>"
      ],
      "text/plain": [
       "                     bidopen  bidclose  bidhigh   bidlow  askopen  askclose  \\\n",
       "date                                                                          \n",
       "2020-04-08 14:00:00  1.08801   1.08630  1.08864  1.08527  1.08809   1.08638   \n",
       "2020-04-08 15:00:00  1.08630   1.08635  1.08831  1.08588  1.08638   1.08641   \n",
       "2020-04-08 16:00:00  1.08635   1.08632  1.08658  1.08505  1.08641   1.08641   \n",
       "2020-04-08 17:00:00  1.08632   1.08648  1.08668  1.08603  1.08641   1.08665   \n",
       "2020-04-08 18:00:00  1.08648   1.08617  1.08725  1.08606  1.08665   1.08623   \n",
       "\n",
       "                     askhigh   asklow  tickqty  \n",
       "date                                            \n",
       "2020-04-08 14:00:00  1.08872  1.08533    25049  \n",
       "2020-04-08 15:00:00  1.08836  1.08594    25701  \n",
       "2020-04-08 16:00:00  1.08663  1.08511    19503  \n",
       "2020-04-08 17:00:00  1.08673  1.08609    10416  \n",
       "2020-04-08 18:00:00  1.08732  1.08612    12751  "
      ]
     },
     "execution_count": 15,
     "metadata": {},
     "output_type": "execute_result"
    }
   ],
   "source": [
    "data.head()"
   ]
  },
  {
   "cell_type": "code",
   "execution_count": null,
   "metadata": {},
   "outputs": [],
   "source": []
  }
 ],
 "metadata": {
  "kernelspec": {
   "display_name": "Python 3",
   "language": "python",
   "name": "python3"
  },
  "language_info": {
   "codemirror_mode": {
    "name": "ipython",
    "version": 3
   },
   "file_extension": ".py",
   "mimetype": "text/x-python",
   "name": "python",
   "nbconvert_exporter": "python",
   "pygments_lexer": "ipython3",
   "version": "3.7.6"
  }
 },
 "nbformat": 4,
 "nbformat_minor": 4
}
