{
 "cells": [
  {
   "cell_type": "code",
   "execution_count": 1,
   "metadata": {},
   "outputs": [],
   "source": [
    "import time"
   ]
  },
  {
   "cell_type": "code",
   "execution_count": 2,
   "metadata": {},
   "outputs": [
    {
     "name": "stdout",
     "output_type": "stream",
     "text": [
      "3.8.2\n"
     ]
    }
   ],
   "source": [
    "import platform\n",
    "print(platform.python_version())"
   ]
  },
  {
   "cell_type": "code",
   "execution_count": 3,
   "metadata": {},
   "outputs": [
    {
     "name": "stdout",
     "output_type": "stream",
     "text": [
      "3.8.2 (default, May  6 2020, 09:02:42) [MSC v.1916 64 bit (AMD64)]\n"
     ]
    }
   ],
   "source": [
    "import sys\n",
    "print(sys.version)"
   ]
  },
  {
   "cell_type": "code",
   "execution_count": 4,
   "metadata": {},
   "outputs": [
    {
     "data": {
      "text/plain": [
       "True"
      ]
     },
     "execution_count": 4,
     "metadata": {},
     "output_type": "execute_result"
    }
   ],
   "source": [
    "import MetaTrader5\n",
    "MetaTrader5.initialize()"
   ]
  },
  {
   "cell_type": "code",
   "execution_count": 5,
   "metadata": {},
   "outputs": [
    {
     "name": "stdout",
     "output_type": "stream",
     "text": [
      "euraud_ticks( 1000 )\n",
      "(1580234400, 1.62913, 1.6292, 0., 0, 1580234400049, 130, 0.)\n",
      "(1580234400, 1.62911, 1.62919, 0., 0, 1580234400365, 134, 0.)\n",
      "(1580234401, 1.62912, 1.62919, 0., 0, 1580234401225, 130, 0.)\n",
      "(1580234401, 1.62911, 1.62919, 0., 0, 1580234401315, 130, 0.)\n",
      "(1580234401, 1.6291, 1.62918, 0., 0, 1580234401596, 134, 0.)\n",
      "(1580234402, 1.62909, 1.62916, 0., 0, 1580234402641, 134, 0.)\n",
      "(1580234402, 1.62908, 1.62916, 0., 0, 1580234402971, 130, 0.)\n",
      "(1580234403, 1.62911, 1.62918, 0., 0, 1580234403505, 134, 0.)\n",
      "(1580234403, 1.62913, 1.6292, 0., 0, 1580234403582, 134, 0.)\n",
      "(1580234403, 1.62917, 1.6292, 0., 0, 1580234403756, 130, 0.)\n"
     ]
    }
   ],
   "source": [
    "from datetime import datetime\n",
    "import matplotlib.pyplot as plt\n",
    "import pandas as pd\n",
    "from pandas.plotting import register_matplotlib_converters\n",
    "register_matplotlib_converters()\n",
    "import MetaTrader5 as mt5\n",
    " \n",
    "# connect to MetaTrader 5\n",
    "if not mt5.initialize():\n",
    "    print(\"initialize() failed\")\n",
    "    mt5.shutdown()\n",
    "\n",
    "# request connection status and parameters\n",
    "#print(mt5.terminal_info())\n",
    "# get data on MetaTrader 5 version\n",
    "#print(mt5.version())\n",
    " \n",
    "# request 1000 ticks from EURAUD\n",
    "euraud_ticks = mt5.copy_ticks_from(\"EURAUD\", datetime(2020,1,28,13), 1000, mt5.COPY_TICKS_ALL)\n",
    "# request ticks from AUDUSD within 2019.04.01 13:00 - 2019.04.02 13:00\n",
    "#audusd_ticks = mt5.copy_ticks_range(\"AUDUSD\", datetime(2020,1,27,13), datetime(2020,1,28,13), mt5.COPY_TICKS_ALL)\n",
    " \n",
    "# get bars from different symbols in a number of ways\n",
    "#eurusd_rates = mt5.copy_rates_from(\"EURUSD\", mt5.TIMEFRAME_M1, datetime(2020,1,28,13), 1000)\n",
    "#eurgbp_rates = mt5.copy_rates_from_pos(\"EURGBP\", mt5.TIMEFRAME_M1, 0, 1000)\n",
    "#eurcad_rates = mt5.copy_rates_range(\"EURCAD\", mt5.TIMEFRAME_M1, datetime(2020,1,27,13), datetime(2020,1,28,13))\n",
    " \n",
    "# shut down connection to MetaTrader 5\n",
    "mt5.shutdown()\n",
    " \n",
    "#DATA\n",
    "print('euraud_ticks(', len(euraud_ticks), ')')\n",
    "for val in euraud_ticks[:10]: print(val)\n",
    "\n",
    "#print('audusd_ticks(', len(audusd_ticks), ')')\n",
    "#for val in audusd_ticks[:10]: print(val)\n",
    "\n",
    "#print('eurusd_rates(', len(eurusd_rates), ')')\n",
    "#for val in eurusd_rates[:10]: print(val)\n",
    "\n",
    "#print('eurgbp_rates(', len(eurgbp_rates), ')')\n",
    "#for val in eurgbp_rates[:10]: print(val)\n",
    "\n",
    "#print('eurcad_rates(', len(eurcad_rates), ')')\n",
    "#for val in eurcad_rates[:10]: print(val)\n",
    "\n",
    "#PLOT\n",
    "# create DataFrame out of the obtained data\n",
    "#ticks_frame = pd.DataFrame(euraud_ticks)\n",
    "# convert time in seconds into the datetime format\n",
    "#ticks_frame['time']=pd.to_datetime(ticks_frame['time'], unit='s')\n",
    "# display ticks on the chart\n",
    "#plt.plot(ticks_frame['time'], ticks_frame['ask'], 'r-', label='ask')\n",
    "#plt.plot(ticks_frame['time'], ticks_frame['bid'], 'b-', label='bid')\n",
    " \n",
    "# display the legends\n",
    "#plt.legend(loc='upper left')\n",
    " \n",
    "# add the header\n",
    "#plt.title('EURAUD ticks')\n",
    " \n",
    "# display the chart\n",
    "#plt.show()"
   ]
  },
  {
   "cell_type": "code",
   "execution_count": 6,
   "metadata": {},
   "outputs": [
    {
     "name": "stdout",
     "output_type": "stream",
     "text": [
      "AccountInfo(login=1045610, trade_mode=0, leverage=100, limit_orders=0, margin_so_mode=0, trade_allowed=True, trade_expert=True, margin_mode=2, currency_digits=2, fifo_close=False, balance=1000.0, credit=0.0, profit=0.0, equity=1000.0, margin=0.0, margin_free=1000.0, margin_level=0.0, margin_so_call=100.0, margin_so_so=40.0, margin_initial=0.0, margin_maintenance=0.0, assets=0.0, liabilities=0.0, commission_blocked=0.0, name='Joseph Caulfield', server='TradersWay-Demo', currency='USD', company='TW Corp.')\n",
      "Show account_info()._asdict():\n",
      "  login=1045610\n",
      "  trade_mode=0\n",
      "  leverage=100\n",
      "  limit_orders=0\n",
      "  margin_so_mode=0\n",
      "  trade_allowed=True\n",
      "  trade_expert=True\n",
      "  margin_mode=2\n",
      "  currency_digits=2\n",
      "  fifo_close=False\n",
      "  balance=1000.0\n",
      "  credit=0.0\n",
      "  profit=0.0\n",
      "  equity=1000.0\n",
      "  margin=0.0\n",
      "  margin_free=1000.0\n",
      "  margin_level=0.0\n",
      "  margin_so_call=100.0\n",
      "  margin_so_so=40.0\n",
      "  margin_initial=0.0\n",
      "  margin_maintenance=0.0\n",
      "  assets=0.0\n",
      "  liabilities=0.0\n",
      "  commission_blocked=0.0\n",
      "  name=Joseph Caulfield\n",
      "  server=TradersWay-Demo\n",
      "  currency=USD\n",
      "  company=TW Corp.\n",
      "\n",
      "account_info() as dataframe:\n",
      "              property             value\n",
      "0                login           1045610\n",
      "1           trade_mode                 0\n",
      "2             leverage               100\n",
      "3         limit_orders                 0\n",
      "4       margin_so_mode                 0\n",
      "5        trade_allowed              True\n",
      "6         trade_expert              True\n",
      "7          margin_mode                 2\n",
      "8      currency_digits                 2\n",
      "9           fifo_close             False\n",
      "10             balance              1000\n",
      "11              credit                 0\n",
      "12              profit                 0\n",
      "13              equity              1000\n",
      "14              margin                 0\n",
      "15         margin_free              1000\n",
      "16        margin_level                 0\n",
      "17      margin_so_call               100\n",
      "18        margin_so_so                40\n",
      "19      margin_initial                 0\n",
      "20  margin_maintenance                 0\n",
      "21              assets                 0\n",
      "22         liabilities                 0\n",
      "23  commission_blocked                 0\n",
      "24                name  Joseph Caulfield\n",
      "25              server   TradersWay-Demo\n",
      "26            currency               USD\n",
      "27             company          TW Corp.\n"
     ]
    },
    {
     "data": {
      "text/plain": [
       "True"
      ]
     },
     "execution_count": 6,
     "metadata": {},
     "output_type": "execute_result"
    }
   ],
   "source": [
    "# establish connection to the MetaTrader 5 terminal\n",
    "if not mt5.initialize():\n",
    "    print(\"initialize() failed, error code =\",mt5.last_error())\n",
    "    quit()\n",
    "\n",
    "# connect to the trade account specifying a password and a server\n",
    "authorized=mt5.login(1045610, password=\"r5AH8znU\")\n",
    "if authorized:\n",
    "    account_info=mt5.account_info()\n",
    "    if account_info!=None:\n",
    "        # display trading account data 'as is'\n",
    "        print(account_info)\n",
    "        # display trading account data in the form of a dictionary\n",
    "        print(\"Show account_info()._asdict():\")\n",
    "        account_info_dict = mt5.account_info()._asdict()\n",
    "        for prop in account_info_dict:\n",
    "            print(\"  {}={}\".format(prop, account_info_dict[prop]))\n",
    "        print()\n",
    " \n",
    "        # convert the dictionary into DataFrame and print\n",
    "        df=pd.DataFrame(list(account_info_dict.items()),columns=['property','value'])\n",
    "        print(\"account_info() as dataframe:\")\n",
    "        print(df)\n",
    "else:\n",
    "    print(\"failed to connect to trade account 25115284 with password=gqz0343lbdm, error code =\",mt5.last_error())\n",
    "\n",
    "# shut down connection to the MetaTrader 5 terminal\n",
    "mt5.shutdown()"
   ]
  },
  {
   "cell_type": "code",
   "execution_count": 7,
   "metadata": {},
   "outputs": [
    {
     "name": "stdout",
     "output_type": "stream",
     "text": [
      "Total symbols = 53\n"
     ]
    },
    {
     "data": {
      "text/plain": [
       "True"
      ]
     },
     "execution_count": 7,
     "metadata": {},
     "output_type": "execute_result"
    }
   ],
   "source": [
    "# establish connection to the MetaTrader 5 terminal\n",
    "if not mt5.initialize():\n",
    "    print(\"initialize() failed, error code =\",mt5.last_error())\n",
    "    quit()\n",
    "\n",
    "# get the number of financial instruments\n",
    "symbols=mt5.symbols_total()\n",
    "if symbols>0:\n",
    "    print(\"Total symbols =\",symbols)\n",
    "else:\n",
    "    print(\"symbols not found\")\n",
    "\n",
    "# shut down connection to the MetaTrader 5 terminal\n",
    "mt5.shutdown()"
   ]
  },
  {
   "cell_type": "code",
   "execution_count": 8,
   "metadata": {},
   "outputs": [],
   "source": [
    "def brutus2():\n",
    "    # establish connection to the MetaTrader 5 terminal\n",
    "    if not mt5.initialize():\n",
    "        print(\"initialize() failed, error code =\",mt5.last_error())\n",
    "        quit()\n",
    "\n",
    "    # attempt to enable the display of the GBPUSD in MarketWatch\n",
    "    selected=mt5.symbol_select(\"GBPUSD\",True)\n",
    "    if not selected:\n",
    "        print(\"Failed to select GBPUSD\")\n",
    "        mt5.shutdown()\n",
    "        quit()\n",
    "\n",
    "    # display the last GBPUSD tick\n",
    "    lasttickb=mt5.symbol_info_tick(\"GBPUSD\").bid\n",
    "    lastticka=mt5.symbol_info_tick(\"GBPUSD\").ask\n",
    "    print('GBPUSD ','  Bid: ',lasttickb,'  Ask: ',lastticka)\n",
    "    # display tick field values in the form of a list\n",
    "    #print(\"Show symbol_info_tick(\\\"GBPUSD\\\")._asdict():\")\n",
    "    #symbol_info_tick_dict = mt5.symbol_info_tick(\"GBPUSD\")._asdict()\n",
    "    #for prop in symbol_info_tick_dict:\n",
    "    #    print(\"  {}={}\".format(prop, symbol_info_tick_dict[prop]))\n",
    "    \n",
    "    \n",
    "\n",
    "    # shut down connection to the MetaTrader 5 terminal\n",
    "    mt5.shutdown()"
   ]
  },
  {
   "cell_type": "code",
   "execution_count": 9,
   "metadata": {},
   "outputs": [
    {
     "name": "stdout",
     "output_type": "stream",
     "text": [
      "GBPUSD  Tick(time=1589774611, bid=1.20944, ask=1.2095, last=0.0, volume=0, time_msc=1589774611525, flags=4, volume_real=0.0)\n"
     ]
    }
   ],
   "source": [
    "iterator = 0\n",
    "\n",
    "while iterator < 5:\n",
    "    brutus2()\n",
    "    time.sleep(5)\n",
    "    iterator = iterator + 1"
   ]
  },
  {
   "cell_type": "code",
   "execution_count": 65,
   "metadata": {},
   "outputs": [
    {
     "name": "stdout",
     "output_type": "stream",
     "text": [
      "                                 a        b        c        d        e  \\\n",
      "date                                                                     \n",
      "2020-05-13 18:35:00+00:00  1.22306  1.22316  1.22304  1.22310  1.22306   \n",
      "2020-05-13 18:40:00+00:00  1.22310  1.22312  1.22272  1.22287  1.22310   \n",
      "2020-05-13 18:45:00+00:00  1.22287  1.22287  1.22276  1.22278  1.22287   \n",
      "2020-05-13 18:50:00+00:00  1.22278  1.22298  1.22273  1.22296  1.22278   \n",
      "2020-05-13 18:55:00+00:00  1.22296  1.22321  1.22292  1.22318  1.22296   \n",
      "...                            ...      ...      ...      ...      ...   \n",
      "2020-05-17 21:10:00+00:00  1.20946  1.20979  1.20931  1.20979  1.20946   \n",
      "2020-05-17 21:15:00+00:00  1.20979  1.20993  1.20942  1.20993  1.20979   \n",
      "2020-05-17 21:20:00+00:00  1.20993  1.21007  1.20981  1.20993  1.20993   \n",
      "2020-05-17 21:25:00+00:00  1.20993  1.21026  1.20992  1.21024  1.20993   \n",
      "2020-05-17 21:30:00+00:00  1.21024  1.21053  1.21011  1.21044  1.21024   \n",
      "\n",
      "                                 f        g        h     open     high  \\\n",
      "date                                                                     \n",
      "2020-05-13 18:35:00+00:00  1.22316  1.22304  1.22310  1.22306  1.22316   \n",
      "2020-05-13 18:40:00+00:00  1.22312  1.22272  1.22287  1.22310  1.22312   \n",
      "2020-05-13 18:45:00+00:00  1.22287  1.22276  1.22278  1.22287  1.22287   \n",
      "2020-05-13 18:50:00+00:00  1.22298  1.22273  1.22296  1.22278  1.22298   \n",
      "2020-05-13 18:55:00+00:00  1.22321  1.22292  1.22318  1.22296  1.22321   \n",
      "...                            ...      ...      ...      ...      ...   \n",
      "2020-05-17 21:10:00+00:00  1.20979  1.20931  1.20979  1.20946  1.20979   \n",
      "2020-05-17 21:15:00+00:00  1.20993  1.20942  1.20993  1.20979  1.20993   \n",
      "2020-05-17 21:20:00+00:00  1.21007  1.20981  1.20993  1.20993  1.21007   \n",
      "2020-05-17 21:25:00+00:00  1.21026  1.20992  1.21024  1.20993  1.21026   \n",
      "2020-05-17 21:30:00+00:00  1.21053  1.21011  1.21044  1.21024  1.21053   \n",
      "\n",
      "                               low    close  tickqty  \n",
      "date                                                  \n",
      "2020-05-13 18:35:00+00:00  1.22304  1.22310        0  \n",
      "2020-05-13 18:40:00+00:00  1.22272  1.22287        0  \n",
      "2020-05-13 18:45:00+00:00  1.22276  1.22278        0  \n",
      "2020-05-13 18:50:00+00:00  1.22273  1.22296        0  \n",
      "2020-05-13 18:55:00+00:00  1.22292  1.22318        0  \n",
      "...                            ...      ...      ...  \n",
      "2020-05-17 21:10:00+00:00  1.20931  1.20979        0  \n",
      "2020-05-17 21:15:00+00:00  1.20942  1.20993        0  \n",
      "2020-05-17 21:20:00+00:00  1.20981  1.20993        0  \n",
      "2020-05-17 21:25:00+00:00  1.20992  1.21024        0  \n",
      "2020-05-17 21:30:00+00:00  1.21011  1.21044        0  \n",
      "\n",
      "[600 rows x 13 columns]\n"
     ]
    }
   ],
   "source": [
    "if not mt5.initialize():\n",
    "    print(\"initialize() failed, error code =\",mt5.last_error())\n",
    "    quit()\n",
    "rates = mt5.copy_rates_from_pos(\"GBPUSD\", mt5.TIMEFRAME_M5, 0, 600)\n",
    "\n",
    "mt5.shutdown()\n",
    "\n",
    "D = pd.DataFrame(rates)\n",
    "D['time']=pd.to_datetime(D['time'], unit='s')\n",
    "D = D.drop(columns=['tick_volume', 'spread', 'real_volume'])\n",
    "D = D.rename({'time': 'date', 'open': 'a', 'high': 'b', 'low': 'c', 'close': 'd'}, axis='columns')\n",
    "D = D.set_index('date')\n",
    "D = D.assign(e=D['a'])\n",
    "D = D.assign(f=D['b'])\n",
    "D = D.assign(g=D['c'])\n",
    "D = D.assign(h=D['d'])\n",
    "D = D.assign(open=D['a'])\n",
    "D = D.assign(high=D['b'])\n",
    "D = D.assign(low=D['c'])\n",
    "D = D.assign(close=D['d'])\n",
    "D = D.assign(tickqty=0)\n",
    "D = D.tz_localize('Etc/GMT-7')\n",
    "D = D.tz_convert('UTC')\n",
    "\n",
    "print(D) "
   ]
  },
  {
   "cell_type": "code",
   "execution_count": null,
   "metadata": {},
   "outputs": [],
   "source": []
  }
 ],
 "metadata": {
  "kernelspec": {
   "display_name": "Python 3",
   "language": "python",
   "name": "python3"
  },
  "language_info": {
   "codemirror_mode": {
    "name": "ipython",
    "version": 3
   },
   "file_extension": ".py",
   "mimetype": "text/x-python",
   "name": "python",
   "nbconvert_exporter": "python",
   "pygments_lexer": "ipython3",
   "version": "3.8.2"
  }
 },
 "nbformat": 4,
 "nbformat_minor": 4
}
