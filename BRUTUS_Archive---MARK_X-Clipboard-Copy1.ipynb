{
 "cells": [
  {
   "cell_type": "code",
   "execution_count": 1,
   "metadata": {},
   "outputs": [],
   "source": [
    "import schedule\n",
    "import time\n",
    "from gtts import gTTS\n",
    "import os\n",
    "from playsound import playsound\n",
    "playsound('C:/Users/joeca/Desktop/Finance/FOREX/Hercules_Prototype_Mark_II/MP3s/startup.mp3')"
   ]
  },
  {
   "cell_type": "code",
   "execution_count": 2,
   "metadata": {},
   "outputs": [],
   "source": [
    "import winsound\n",
    "import numpy as np\n",
    "import pandas as pd\n",
    "import math\n",
    "from scipy import stats\n",
    "import statsmodels.api as sm\n",
    "import matplotlib.pyplot as plt\n",
    "from sympy import *\n",
    "init_printing()\n",
    "import xlrd\n",
    "from datetime import datetime as dt"
   ]
  },
  {
   "cell_type": "code",
   "execution_count": 3,
   "metadata": {},
   "outputs": [],
   "source": [
    "from threading import Thread\n",
    "import json\n",
    "from scipy.signal import argrelextrema\n",
    "import pytz\n",
    "import itertools\n",
    "from itertools import combinations\n",
    "from itertools import product\n",
    "from itertools import groupby\n",
    "from astropy.table import QTable, Table, Column\n",
    "from astropy import units as u\n",
    "from IPython.display import HTML"
   ]
  },
  {
   "cell_type": "code",
   "execution_count": 4,
   "metadata": {},
   "outputs": [],
   "source": [
    "from pandas.plotting import register_matplotlib_converters\n",
    "register_matplotlib_converters()\n",
    "import MetaTrader5 as mt5"
   ]
  },
  {
   "cell_type": "code",
   "execution_count": 5,
   "metadata": {},
   "outputs": [],
   "source": [
    "if not mt5.initialize(path=\"C:/JoeC/MetaTrader 5/terminal64.exe\",login=1045610, server=\"TradersWay-Demo\",password=\"r5AH8znU\"):\n",
    "    print(\"initialize() failed, error code =\",mt5.last_error())\n",
    "    quit()"
   ]
  },
  {
   "cell_type": "code",
   "execution_count": 13,
   "metadata": {},
   "outputs": [
    {
     "name": "stdout",
     "output_type": "stream",
     "text": [
      "0.276511   seconds\n",
      "[1.13547, 1.12391, 1.12057, 1.11859, 1.11755, 1.11584, 1.11566, 1.11541, 1.11516, 1.11497, 1.11443, 1.11398, 1.11338, 1.1131, 1.11249, 1.11226, 1.11159, 1.11147, 1.11127, 1.11091, 1.1105, 1.11035, 1.1102400000000001, 1.11022, 1.1098, 1.10943, 1.10897, 1.10873, 1.10858, 1.10842, 1.10801, 1.10775, 1.10768, 1.10754, 1.10735, 1.10698, 1.1068500000000001, 1.10675, 1.10658, 1.10581, 1.10534, 1.10529, 1.10426, 1.10398, 1.10391, 1.10386, 1.10353, 1.10298, 1.10264, 1.10254, 1.10229, 1.10224, 1.10172, 1.10166, 1.10156, 1.10107, 1.10065, 1.10042, 1.10009, 1.09974, 1.09968, 1.09928, 1.09913, 1.09852, 1.0979700000000001, 1.09686, 1.09551, 1.09461, 1.09335, 1.09204, 1.09078, 1.09049, 1.09016, 1.08879, 1.08791, 1.08733, 1.0867499999999999, 1.08611, 1.08592, 1.0855, 1.08525, 1.08491, 1.08453, 1.08418, 1.08324, 1.0832, 1.0830899999999999, 1.08208, 1.08166, 1.08153, 1.08141, 1.08079, 1.08019, 1.07903, 1.07822, 1.07781, 1.0760399999999999]\n"
     ]
    }
   ],
   "source": [
    "start = dt.now()\n",
    "\n",
    "Srates = mt5.copy_rates_from_pos(\"EURUSD\", mt5.TIMEFRAME_H8, 0, 600)\n",
    "\n",
    "S = pd.DataFrame(Srates)\n",
    "S['time']=pd.to_datetime(S['time'], unit='s')\n",
    "S = S.drop(columns=['tick_volume', 'spread', 'real_volume'])\n",
    "S = S.set_index('time')\n",
    "S = S.tz_localize('Etc/GMT-7')\n",
    "S = S.tz_convert('UTC')\n",
    "\n",
    "S = S.assign(MOVE=(S['close'] - S['open']))\n",
    "SAvgCandle = np.average(abs(S['MOVE']))\n",
    "STDCandle = np.std(abs(S['MOVE']))\n",
    "CP = S['close'].iloc[-1]\n",
    "scope = SAvgCandle*15\n",
    "SCM = SAvgCandle\n",
    "\n",
    "CNDL = (S.iloc[:, 3]) - (S.iloc[:, 0])\n",
    "S['CNDL'] = np.where(CNDL > 0, 1, -1)\n",
    "S = S.assign(INFL=S['CNDL'].ne(S['CNDL'].shift()))\n",
    "S = S[S.INFL != 0]\n",
    "S['INFL'] = S['CNDL']*-1\n",
    "S['LVL'] = np.where(S.INFL == 1, S.high, S.low)\n",
    "S = S.assign(SIZE=abs(S['LVL'] - (S['LVL'].shift(-1))))\n",
    "\n",
    "A = np.array(S.LVL)\n",
    "\n",
    "B = list(combinations(A, 2))\n",
    "Ba = np.array([x for x, y in B])\n",
    "B = np.array([abs(x - y) for x, y in B])\n",
    "Bb = np.array([np.where(x <= SCM, 1, 0) for x in B])\n",
    "\n",
    "T = list(zip(Ba,Bb))\n",
    "\n",
    "table = pd.DataFrame(T, columns=['a','b']).groupby('a').sum()\n",
    "table['max'] = table.b[(table.b.shift(1) < table.b) & (table.b.shift(-1) < table.b)]\n",
    "table = table.sort_values(['a'], ascending=False)\n",
    "table = table.rename(columns={'b': 'Pings'})\n",
    "table = table.fillna(0)\n",
    "table = table[table['max'] != 0]\n",
    "pingsavg = np.average(table['Pings'])\n",
    "table = table.assign(level=table.index)\n",
    "\n",
    "levels = list(table['level'])\n",
    "\n",
    "end = dt.now()\n",
    "elapsed = end - start\n",
    "elapsed = elapsed.total_seconds()\n",
    "elapsed = str(elapsed)\n",
    "timer = elapsed + '   seconds'\n",
    "print(timer)\n",
    "print(levels)"
   ]
  },
  {
   "cell_type": "code",
   "execution_count": 9,
   "metadata": {},
   "outputs": [],
   "source": [
    "#mt5.shutdown()"
   ]
  },
  {
   "cell_type": "code",
   "execution_count": null,
   "metadata": {},
   "outputs": [],
   "source": []
  }
 ],
 "metadata": {
  "kernelspec": {
   "display_name": "Python 3",
   "language": "python",
   "name": "python3"
  },
  "language_info": {
   "codemirror_mode": {
    "name": "ipython",
    "version": 3
   },
   "file_extension": ".py",
   "mimetype": "text/x-python",
   "name": "python",
   "nbconvert_exporter": "python",
   "pygments_lexer": "ipython3",
   "version": "3.8.2"
  }
 },
 "nbformat": 4,
 "nbformat_minor": 4
}
