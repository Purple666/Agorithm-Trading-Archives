{
 "cells": [
  {
   "cell_type": "code",
   "execution_count": 1,
   "metadata": {},
   "outputs": [],
   "source": [
    "import schedule\n",
    "import time\n",
    "from gtts import gTTS\n",
    "import os\n",
    "from playsound import playsound\n",
    "playsound('C:/Users/joeca/Desktop/Finance/FOREX/Hercules_Prototype_Mark_II/MP3s/startup.mp3')"
   ]
  },
  {
   "cell_type": "code",
   "execution_count": 2,
   "metadata": {},
   "outputs": [],
   "source": [
    "import winsound\n",
    "import numpy as np\n",
    "import pandas as pd\n",
    "import math\n",
    "from scipy import stats\n",
    "import statsmodels.api as sm\n",
    "import matplotlib.pyplot as plt\n",
    "from sympy import *\n",
    "init_printing()\n",
    "import xlrd\n",
    "from datetime import datetime as dt"
   ]
  },
  {
   "cell_type": "code",
   "execution_count": 3,
   "metadata": {},
   "outputs": [],
   "source": [
    "import json\n",
    "from scipy.signal import argrelextrema\n",
    "import pytz\n",
    "import itertools\n",
    "from itertools import combinations\n",
    "from itertools import product\n",
    "from itertools import groupby\n",
    "from astropy.table import QTable, Table, Column\n",
    "from astropy import units as u\n",
    "from IPython.display import HTML"
   ]
  },
  {
   "cell_type": "code",
   "execution_count": 4,
   "metadata": {},
   "outputs": [],
   "source": [
    "from pandas.plotting import register_matplotlib_converters\n",
    "register_matplotlib_converters()\n",
    "import MetaTrader5 as mt5"
   ]
  },
  {
   "cell_type": "code",
   "execution_count": 5,
   "metadata": {},
   "outputs": [],
   "source": [
    "if not mt5.initialize(path=\"C:/JoeC/MetaTrader 5/terminal64.exe\",login=1045610, server=\"TradersWay-Demo\",password=\"r5AH8znU\"):\n",
    "    print(\"initialize() failed, error code =\",mt5.last_error())\n",
    "    quit()"
   ]
  },
  {
   "cell_type": "code",
   "execution_count": 6,
   "metadata": {},
   "outputs": [],
   "source": [
    "def func_1():\n",
    "    Hrates = mt5.copy_rates_from_pos(\"EURUSD\", mt5.TIMEFRAME_H2, 0, 250)\n",
    "    H = pd.DataFrame(Hrates)\n",
    "    H['time']=pd.to_datetime(H['time'], unit='s')\n",
    "    H = H.drop(columns=['tick_volume', 'spread', 'real_volume'])\n",
    "    H = H.set_index('time')\n",
    "    H = H.tz_localize('Etc/GMT-7')\n",
    "    H = H.tz_convert('UTC')\n",
    "    H = H.assign(MOVE=(H['close'] - H['open']))\n",
    "    hlin = np.linspace(1,25,num=25)\n",
    "\n",
    "    SLOPE = []\n",
    "    i = 0\n",
    "    for t in hlin:\n",
    "        ii = i - 1\n",
    "        if i == 0:\n",
    "            SLOPE.append(0)\n",
    "        else:\n",
    "            slope = H.iloc[i,3] - H.iloc[ii,3]\n",
    "            SLOPE.append(slope)\n",
    "        i = i + 1\n",
    "\n",
    "    SLOPE2 = []\n",
    "    i = 0\n",
    "    for t in hlin:\n",
    "        ii = i - 1\n",
    "        if i == 0:\n",
    "            SLOPE2.append(0)\n",
    "        else:\n",
    "            slope2 = SLOPE[i] - SLOPE[ii]\n",
    "            SLOPE2.append(slope2)\n",
    "        i = i + 1\n",
    "\n",
    "    CONCAVE = []\n",
    "    i = 0\n",
    "    for t in hlin:\n",
    "        if SLOPE2[i] == 0:\n",
    "            CONCAVE.append('INFL')\n",
    "        elif SLOPE2[i] > 0:\n",
    "            CONCAVE.append('UP')\n",
    "        else:\n",
    "            CONCAVE.append('DOWN')\n",
    "        i = i + 1\n",
    "        \n",
    "    print(CONCAVE)"
   ]
  },
  {
   "cell_type": "code",
   "execution_count": 7,
   "metadata": {},
   "outputs": [],
   "source": [
    "def func_2():\n",
    "    Hrates = mt5.copy_rates_from_pos(\"EURUSD\", mt5.TIMEFRAME_H2, 0, 10)\n",
    "    H = pd.DataFrame(Hrates)\n",
    "    H['time']=pd.to_datetime(H['time'], unit='s')\n",
    "    H = H.drop(columns=['tick_volume', 'spread', 'real_volume'])\n",
    "    H = H.set_index('time')\n",
    "    H = H.tz_localize('Etc/GMT-7')\n",
    "    H = H.tz_convert('UTC')\n",
    "    H = H.assign(MOVE=(H['close'] - H['open']))\n",
    "    hlin = np.linspace(1,10,num=10)\n",
    "\n",
    "    SLOPE = []\n",
    "    i = 0\n",
    "    for t in hlin:\n",
    "        ii = i - 1\n",
    "        if i == 0:\n",
    "            SLOPE.append(0)\n",
    "        else:\n",
    "            slope = H.iloc[i,3] - H.iloc[ii,3]\n",
    "            SLOPE.append(slope)\n",
    "        i = i + 1\n",
    "\n",
    "    SLOPE2 = []\n",
    "    i = 0\n",
    "    for t in hlin:\n",
    "        ii = i - 1\n",
    "        if i == 0:\n",
    "            SLOPE2.append(0)\n",
    "        else:\n",
    "            slope2 = SLOPE[i] - SLOPE[ii]\n",
    "            SLOPE2.append(slope2)\n",
    "        i = i + 1\n",
    "\n",
    "    CONCAVE = []\n",
    "    i = 0\n",
    "    for t in hlin:\n",
    "        if SLOPE2[i] == 0:\n",
    "            CONCAVE.append('INFL')\n",
    "        elif SLOPE2[i] > 0:\n",
    "            CONCAVE.append('UP')\n",
    "        else:\n",
    "            CONCAVE.append('DOWN')\n",
    "        i = i + 1\n",
    "    \n",
    "    print(CONCAVE)"
   ]
  },
  {
   "cell_type": "code",
   "execution_count": 8,
   "metadata": {},
   "outputs": [],
   "source": [
    "def func_3():\n",
    "    Hrates = mt5.copy_rates_from_pos(\"EURUSD\", mt5.TIMEFRAME_H2, 0, 3)\n",
    "    H = pd.DataFrame(Hrates)\n",
    "    H = H.set_index('time')\n",
    "    hlin = np.linspace(1,3,num=3)\n",
    "\n",
    "    SLOPE = []\n",
    "    i = 0\n",
    "    for t in hlin:\n",
    "        ii = i - 1\n",
    "        if i == 0:\n",
    "            SLOPE.append(0)\n",
    "        else:\n",
    "            slope = H.iloc[i,3] - H.iloc[ii,3]\n",
    "            SLOPE.append(slope)\n",
    "        i = i + 1\n",
    "\n",
    "    SLOPE2 = []\n",
    "    i = 0\n",
    "    for t in hlin:\n",
    "        ii = i - 1\n",
    "        if i == 0:\n",
    "            SLOPE2.append(0)\n",
    "        else:\n",
    "            slope2 = SLOPE[i] - SLOPE[ii]\n",
    "            SLOPE2.append(slope2)\n",
    "        i = i + 1\n",
    "\n",
    "    if SLOPE2[-1] == 0:\n",
    "        CONCAVE = 'INFL'\n",
    "    elif SLOPE2[-1] > 0:\n",
    "        CONCAVE = 'UP'\n",
    "    else:\n",
    "        CONCAVE = 'DOWN'\n",
    "    \n",
    "    print(CONCAVE)"
   ]
  },
  {
   "cell_type": "code",
   "execution_count": 9,
   "metadata": {},
   "outputs": [
    {
     "name": "stdout",
     "output_type": "stream",
     "text": [
      "['INFL', 'UP', 'DOWN', 'UP', 'UP', 'DOWN', 'DOWN', 'DOWN', 'UP', 'UP', 'DOWN', 'DOWN', 'UP', 'UP', 'DOWN', 'DOWN', 'DOWN', 'DOWN', 'DOWN', 'DOWN', 'UP', 'DOWN', 'UP', 'UP', 'DOWN']\n",
      "['INFL', 'DOWN', 'UP', 'DOWN', 'UP', 'DOWN', 'DOWN', 'UP', 'UP', 'DOWN']\n",
      "DOWN\n"
     ]
    }
   ],
   "source": [
    "func_1()\n",
    "func_2()\n",
    "func_3()"
   ]
  },
  {
   "cell_type": "code",
   "execution_count": 10,
   "metadata": {},
   "outputs": [
    {
     "data": {
      "text/plain": [
       "True"
      ]
     },
     "execution_count": 10,
     "metadata": {},
     "output_type": "execute_result"
    }
   ],
   "source": [
    "mt5.shutdown()"
   ]
  }
 ],
 "metadata": {
  "kernelspec": {
   "display_name": "Python 3",
   "language": "python",
   "name": "python3"
  },
  "language_info": {
   "codemirror_mode": {
    "name": "ipython",
    "version": 3
   },
   "file_extension": ".py",
   "mimetype": "text/x-python",
   "name": "python",
   "nbconvert_exporter": "python",
   "pygments_lexer": "ipython3",
   "version": "3.8.2"
  }
 },
 "nbformat": 4,
 "nbformat_minor": 4
}
