{
 "cells": [
  {
   "cell_type": "code",
   "execution_count": 1,
   "metadata": {},
   "outputs": [],
   "source": [
    "from playsound import playsound\n",
    "playsound('C:/Users/joeca/Desktop/Finance/FOREX/Hercules_Prototype_Mark_II/MP3s/startup.mp3')\n",
    "from datetime import datetime as dt\n",
    "from collections import defaultdict\n",
    "import time\n",
    "import numpy as np\n",
    "import pandas as pd\n",
    "import math\n",
    "from scipy import stats\n",
    "from scipy.signal import argrelextrema\n",
    "from scipy.signal import savgol_filter\n",
    "import statsmodels.api as sm\n",
    "from sympy import *\n",
    "import pytz\n",
    "import itertools\n",
    "import matplotlib.pyplot as plt\n",
    "from itertools import combinations\n",
    "from itertools import product\n",
    "from itertools import groupby\n",
    "from pandas.plotting import register_matplotlib_converters\n",
    "register_matplotlib_converters()\n",
    "import MetaTrader5 as mt5"
   ]
  },
  {
   "cell_type": "code",
   "execution_count": 2,
   "metadata": {},
   "outputs": [],
   "source": [
    "if not mt5.initialize(path=\"C:/JoeC/MetaTrader 5/terminal64.exe\",login=1045610, server=\"TradersWay-Demo\",password=\"r5AH8znU\"):\n",
    "    print(\"initialize() failed, error code =\",mt5.last_error())\n",
    "    quit()"
   ]
  },
  {
   "cell_type": "code",
   "execution_count": 3,
   "metadata": {},
   "outputs": [
    {
     "name": "stdout",
     "output_type": "stream",
     "text": [
      "Symbols:  53\n",
      "EURUSD\n",
      "GBPUSD\n",
      "USDCHF\n",
      "USDJPY\n",
      "USDCAD\n",
      "AUDUSD\n",
      "AUDNZD\n",
      "AUDCAD\n",
      "AUDCHF\n",
      "AUDJPY\n",
      "CHFJPY\n",
      "EURGBP\n",
      "EURAUD\n",
      "EURCHF\n",
      "EURJPY\n",
      "EURNZD\n",
      "EURCAD\n",
      "GBPCHF\n",
      "GBPJPY\n",
      "CADCHF\n",
      ".BrentCrude\n",
      ".WTICrude\n",
      "CADJPY\n",
      "EURNOK\n",
      "EURSEK\n",
      "EURTRY\n",
      "GBPAUD\n",
      "GBPCAD\n",
      "GBPNOK\n",
      "GBPNZD\n",
      "GBPSGD\n",
      "NZDCAD\n",
      "NZDCHF\n",
      "NZDJPY\n",
      "NZDUSD\n",
      "USDDKK\n",
      "USDMXN\n",
      "USDNOK\n",
      "USDSEK\n",
      "USDSGD\n",
      "USDTRY\n",
      "XAGUSD\n",
      "XAUUSD\n",
      "BTCUSD\n",
      "BCHUSD\n",
      "ETHUSD\n",
      "DSHUSD\n",
      "LTCUSD\n",
      "XMRUSD\n",
      "ZECUSD\n",
      "ETCUSD\n",
      "XRPUSD\n",
      "BTCUSDt\n"
     ]
    }
   ],
   "source": [
    "symbols=mt5.symbols_get()\n",
    "print('Symbols: ', len(symbols))\n",
    "count=0\n",
    "# display the first five ones\n",
    "for s in symbols:\n",
    "    count+=1\n",
    "    print(s.name)"
   ]
  },
  {
   "cell_type": "code",
   "execution_count": 5,
   "metadata": {},
   "outputs": [
    {
     "name": "stdout",
     "output_type": "stream",
     "text": [
      "Initializing...\n",
      "Symbols:  53\n",
      "['EURUSD', 'GBPUSD', 'USDCHF', 'USDJPY', 'USDCAD', 'AUDUSD', 'AUDNZD', 'AUDCAD', 'AUDCHF', 'AUDJPY', 'CHFJPY', 'EURGBP', 'EURAUD', 'EURCHF', 'EURJPY', 'EURNZD', 'EURCAD', 'GBPCHF', 'GBPJPY', 'CADCHF', '.BrentCrude', '.WTICrude', 'CADJPY', 'EURNOK', 'EURSEK', 'EURTRY', 'GBPAUD', 'GBPCAD', 'GBPNOK', 'GBPNZD', 'GBPSGD', 'NZDCAD', 'NZDCHF', 'NZDJPY', 'NZDUSD', 'USDDKK', 'USDMXN', 'USDNOK', 'USDSEK', 'USDSGD', 'USDTRY', 'XAGUSD', 'XAUUSD', 'BTCUSD', 'BCHUSD', 'ETHUSD', 'DSHUSD', 'LTCUSD', 'XMRUSD', 'ZECUSD', 'ETCUSD', 'XRPUSD', 'BTCUSDt']\n"
     ]
    }
   ],
   "source": [
    "print(\"Initializing...\")\n",
    "\n",
    "pair = []\n",
    "\n",
    "symbols=mt5.symbols_get()\n",
    "print('Symbols: ', len(symbols))\n",
    "for s in symbols:\n",
    "    pair.append(s.name)\n",
    "\n",
    "print(pair)\n",
    "#pair = ['AUDCAD','AUDCHF','AUDJPY','AUDNZD','AUDUSD','CADCHF','CADJPY','CHFJPY','EURAUD','EURCAD','EURCHF','EURGBP','EURJPY','EURNZD','EURUSD','GBPAUD','GBPCAD','GBPCHF','GBPJPY','GBPUSD','NZDCAD','NZDCHF','NZDJPY','NZDUSD','USDCAD','USDCHF','USDJPY']\n",
    "#levslist = levelgrab(pair)\n",
    "\n",
    "#brutus(pair,levslist)"
   ]
  },
  {
   "cell_type": "code",
   "execution_count": null,
   "metadata": {},
   "outputs": [],
   "source": []
  }
 ],
 "metadata": {
  "kernelspec": {
   "display_name": "Python 3",
   "language": "python",
   "name": "python3"
  },
  "language_info": {
   "codemirror_mode": {
    "name": "ipython",
    "version": 3
   },
   "file_extension": ".py",
   "mimetype": "text/x-python",
   "name": "python",
   "nbconvert_exporter": "python",
   "pygments_lexer": "ipython3",
   "version": "3.8.2"
  }
 },
 "nbformat": 4,
 "nbformat_minor": 4
}
