{
 "cells": [
  {
   "cell_type": "code",
   "execution_count": 1,
   "metadata": {},
   "outputs": [],
   "source": [
    "import schedule\n",
    "import time\n",
    "from gtts import gTTS\n",
    "import os\n",
    "from playsound import playsound\n",
    "playsound('C:/Users/joeca/Desktop/Finance/FOREX/Hercules_Prototype_Mark_II/MP3s/startup.mp3')"
   ]
  },
  {
   "cell_type": "code",
   "execution_count": 2,
   "metadata": {},
   "outputs": [],
   "source": [
    "import winsound\n",
    "import numpy as np\n",
    "import pandas as pd\n",
    "import math\n",
    "from scipy import stats\n",
    "import statsmodels.api as sm\n",
    "import matplotlib.pyplot as plt\n",
    "from sympy import *\n",
    "init_printing()\n",
    "import xlrd\n",
    "from datetime import datetime as dt"
   ]
  },
  {
   "cell_type": "code",
   "execution_count": 3,
   "metadata": {},
   "outputs": [],
   "source": [
    "from threading import Thread\n",
    "import json\n",
    "from scipy.signal import argrelextrema\n",
    "import pytz\n",
    "import itertools\n",
    "from itertools import combinations\n",
    "from itertools import product\n",
    "from itertools import groupby\n",
    "from astropy.table import QTable, Table, Column\n",
    "from astropy import units as u\n",
    "from IPython.display import HTML"
   ]
  },
  {
   "cell_type": "code",
   "execution_count": 4,
   "metadata": {},
   "outputs": [],
   "source": [
    "from pandas.plotting import register_matplotlib_converters\n",
    "register_matplotlib_converters()\n",
    "import MetaTrader5 as mt5"
   ]
  },
  {
   "cell_type": "code",
   "execution_count": 5,
   "metadata": {},
   "outputs": [],
   "source": [
    "if not mt5.initialize(path=\"C:/JoeC/MetaTrader 5/terminal64.exe\",login=1045610, server=\"TradersWay-Demo\",password=\"r5AH8znU\"):\n",
    "    print(\"initialize() failed, error code =\",mt5.last_error())\n",
    "    quit()"
   ]
  },
  {
   "cell_type": "code",
   "execution_count": 19,
   "metadata": {},
   "outputs": [
    {
     "name": "stdout",
     "output_type": "stream",
     "text": [
      "0.246547   seconds\n",
      "[1.1161699999999999, 1.11608, 1.11527, 1.1149499999999999, 1.11431, 1.11399, 1.1137, 1.11279, 1.11267, 1.11231, 1.11183, 1.11137, 1.11117, 1.11087, 1.11072, 1.11036, 1.10994, 1.10981, 1.10927, 1.10914, 1.10867, 1.10821, 1.10812, 1.10783, 1.10778, 1.10759, 1.10751, 1.10732, 1.10719, 1.10669, 1.10612, 1.10598, 1.10581, 1.10528, 1.10467, 1.104, 1.10354, 1.10322, 1.10307, 1.10284, 1.1026799999999999, 1.10232, 1.10219, 1.10195, 1.1014, 1.10102, 1.10083, 1.10015, 1.10001, 1.09977, 1.09926, 1.09824, 1.09806, 1.09787, 1.09749, 1.09707, 1.0962, 1.09588, 1.09555, 1.09415, 1.0915, 1.09122, 1.08727, 1.08563, 1.08551, 1.08496, 1.08467, 1.08396, 1.08047, 1.0802100000000001, 1.07955]\n"
     ]
    }
   ],
   "source": [
    "start = dt.now()\n",
    "\n",
    "Srates = mt5.copy_rates_from_pos(\"EURUSD\", mt5.TIMEFRAME_H8, 0, 600)\n",
    "S = Srates\n",
    "SCM = np.average(abs(S['close'] - S['open']))\n",
    "y = S['close']\n",
    "LVL = np.concatenate((y[argrelextrema(y, np.greater)[0]],y[argrelextrema(y, np.less)[0]]))\n",
    "B = list(combinations(LVL, 2))\n",
    "Ba = np.array([x for x, y in B])\n",
    "B = np.array([abs(x - y) for x, y in B])\n",
    "Bb = np.array([np.where(x <= SCM, 1, 0) for x in B])\n",
    "T = list(zip(Ba,Bb))\n",
    "table = pd.DataFrame(T, columns=['a','b']).groupby('a').sum()\n",
    "table['max'] = table.b[(table.b.shift(1) < table.b) & (table.b.shift(-1) < table.b)]\n",
    "table = table.sort_values(['a'], ascending=False)\n",
    "table = table.fillna(0)\n",
    "table = table[table['max'] > np.average(table['b'])]\n",
    "table = table.assign(level=table.index)\n",
    "levels = list(table['level'])\n",
    "\n",
    "end = dt.now()\n",
    "elapsed = end - start\n",
    "elapsed = elapsed.total_seconds()\n",
    "elapsed = str(elapsed)\n",
    "timer = elapsed + '   seconds'\n",
    "print(timer)\n",
    "print(levels)"
   ]
  },
  {
   "cell_type": "code",
   "execution_count": 12,
   "metadata": {},
   "outputs": [],
   "source": [
    "#mt5.shutdown()"
   ]
  },
  {
   "cell_type": "code",
   "execution_count": null,
   "metadata": {},
   "outputs": [],
   "source": []
  }
 ],
 "metadata": {
  "kernelspec": {
   "display_name": "Python 3",
   "language": "python",
   "name": "python3"
  },
  "language_info": {
   "codemirror_mode": {
    "name": "ipython",
    "version": 3
   },
   "file_extension": ".py",
   "mimetype": "text/x-python",
   "name": "python",
   "nbconvert_exporter": "python",
   "pygments_lexer": "ipython3",
   "version": "3.8.2"
  }
 },
 "nbformat": 4,
 "nbformat_minor": 4
}
