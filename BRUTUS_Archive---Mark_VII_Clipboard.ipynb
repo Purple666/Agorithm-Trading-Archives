{
 "cells": [
  {
   "cell_type": "code",
   "execution_count": 1,
   "metadata": {},
   "outputs": [],
   "source": [
    "import schedule\n",
    "import time\n",
    "from gtts import gTTS\n",
    "import os\n",
    "from playsound import playsound\n",
    "playsound('C:/Users/joeca/Desktop/Finance/FOREX/Hercules_Prototype_Mark_II/MP3s/startup.mp3')"
   ]
  },
  {
   "cell_type": "code",
   "execution_count": 2,
   "metadata": {},
   "outputs": [],
   "source": [
    "import winsound\n",
    "import numpy as np\n",
    "import pandas as pd\n",
    "import math\n",
    "from scipy import stats\n",
    "import statsmodels.api as sm\n",
    "import matplotlib.pyplot as plt\n",
    "from sympy import *\n",
    "init_printing()\n",
    "import xlrd\n",
    "from datetime import datetime as dt"
   ]
  },
  {
   "cell_type": "code",
   "execution_count": 3,
   "metadata": {},
   "outputs": [],
   "source": [
    "import json\n",
    "from scipy.signal import argrelextrema\n",
    "import pytz\n",
    "import itertools\n",
    "from itertools import combinations\n",
    "from itertools import product\n",
    "from itertools import groupby\n",
    "from astropy.table import QTable, Table, Column\n",
    "from astropy import units as u\n",
    "from IPython.display import HTML"
   ]
  },
  {
   "cell_type": "code",
   "execution_count": 4,
   "metadata": {},
   "outputs": [],
   "source": [
    "from pandas.plotting import register_matplotlib_converters\n",
    "register_matplotlib_converters()\n",
    "import MetaTrader5 as mt5"
   ]
  },
  {
   "cell_type": "code",
   "execution_count": 5,
   "metadata": {},
   "outputs": [],
   "source": [
    "if not mt5.initialize(path=\"C:/JoeC/MetaTrader 5/terminal64.exe\",login=1045610, server=\"TradersWay-Demo\",password=\"r5AH8znU\"):\n",
    "    print(\"initialize() failed, error code =\",mt5.last_error())\n",
    "    quit()"
   ]
  },
  {
   "cell_type": "code",
   "execution_count": null,
   "metadata": {},
   "outputs": [],
   "source": []
  },
  {
   "cell_type": "code",
   "execution_count": 6,
   "metadata": {},
   "outputs": [
    {
     "name": "stdout",
     "output_type": "stream",
     "text": [
      "           time     open     high      low    close  tick_volume  spread  \\\n",
      "0    1565827200  1.11374  1.11518  1.11338  1.11511         8476       0   \n",
      "1    1565856000  1.11511  1.11584  1.11352  1.11422        24318       0   \n",
      "2    1565884800  1.11422  1.11446  1.10916  1.11062        21784       0   \n",
      "3    1565913600  1.11062  1.11120  1.10957  1.11034         7764       0   \n",
      "4    1565942400  1.11034  1.11063  1.10663  1.10739        16509       0   \n",
      "..          ...      ...      ...      ...      ...          ...     ...   \n",
      "595  1590048000  1.09607  1.10082  1.09523  1.09955        25873       0   \n",
      "596  1590076800  1.09955  1.09955  1.09372  1.09461        27644       0   \n",
      "597  1590105600  1.09460  1.09535  1.09272  1.09295        10644       0   \n",
      "598  1590134400  1.09295  1.09322  1.08871  1.08982        25458       0   \n",
      "599  1590163200  1.08982  1.09056  1.08854  1.09039        17582       0   \n",
      "\n",
      "     real_volume     MOVE  \n",
      "0              0  0.00137  \n",
      "1              0 -0.00089  \n",
      "2              0 -0.00360  \n",
      "3              0 -0.00028  \n",
      "4              0 -0.00295  \n",
      "..           ...      ...  \n",
      "595            0  0.00348  \n",
      "596            0 -0.00494  \n",
      "597            0 -0.00165  \n",
      "598            0 -0.00313  \n",
      "599            0  0.00057  \n",
      "\n",
      "[600 rows x 9 columns]\n"
     ]
    }
   ],
   "source": [
    "Srates = mt5.copy_rates_from_pos(\"EURUSD\", mt5.TIMEFRAME_H8, 0, 600)\n",
    "S = pd.DataFrame(Srates)\n",
    "S['MOVE'] = (S['close'] - S['open'])\n",
    "\n",
    "print(S)"
   ]
  },
  {
   "cell_type": "code",
   "execution_count": 11,
   "metadata": {},
   "outputs": [
    {
     "name": "stdout",
     "output_type": "stream",
     "text": [
      "time           1.590163e+09\n",
      "open           1.089820e+00\n",
      "high           1.090560e+00\n",
      "low            1.088540e+00\n",
      "close          1.090390e+00\n",
      "tick_volume    1.758200e+04\n",
      "spread         0.000000e+00\n",
      "real_volume    0.000000e+00\n",
      "MOVE           5.700000e-04\n",
      "Name: 599, dtype: float64\n",
      "1.09039\n"
     ]
    }
   ],
   "source": [
    "D = S.iloc[599,:]\n",
    "\n",
    "Q = D[4]\n",
    "\n",
    "print(D)\n",
    "print(Q)"
   ]
  },
  {
   "cell_type": "code",
   "execution_count": 8,
   "metadata": {},
   "outputs": [
    {
     "data": {
      "text/plain": [
       "True"
      ]
     },
     "execution_count": 8,
     "metadata": {},
     "output_type": "execute_result"
    }
   ],
   "source": [
    "mt5.shutdown()"
   ]
  },
  {
   "cell_type": "code",
   "execution_count": null,
   "metadata": {},
   "outputs": [],
   "source": []
  }
 ],
 "metadata": {
  "kernelspec": {
   "display_name": "Python 3",
   "language": "python",
   "name": "python3"
  },
  "language_info": {
   "codemirror_mode": {
    "name": "ipython",
    "version": 3
   },
   "file_extension": ".py",
   "mimetype": "text/x-python",
   "name": "python",
   "nbconvert_exporter": "python",
   "pygments_lexer": "ipython3",
   "version": "3.8.2"
  }
 },
 "nbformat": 4,
 "nbformat_minor": 4
}
